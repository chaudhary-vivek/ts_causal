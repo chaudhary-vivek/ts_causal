{
 "cells": [
  {
   "cell_type": "code",
   "execution_count": 7,
   "metadata": {},
   "outputs": [],
   "source": [
    "import numpy as np\n",
    "import matplotlib.pyplot as plt\n",
    "import pandas as pd\n",
    "import statsmodels.formula.api as smf\n",
    "\n"
   ]
  },
  {
   "cell_type": "markdown",
   "metadata": {},
   "source": [
    "# Dataload"
   ]
  },
  {
   "cell_type": "code",
   "execution_count": 8,
   "metadata": {},
   "outputs": [],
   "source": [
    "df = pd.read_csv('p99.csv')\n",
    "df = df[['State','Year','PacksPerCapita','treated']]"
   ]
  },
  {
   "cell_type": "markdown",
   "metadata": {},
   "source": [
    "# DiD\n",
    "X = α + βg + γt + δ(g × t) + e"
   ]
  },
  {
   "cell_type": "code",
   "execution_count": 9,
   "metadata": {},
   "outputs": [
    {
     "name": "stdout",
     "output_type": "stream",
     "text": [
      "Intercept (α): 3065.7727623257883\n",
      "Treatment group effect (β): 3524.8215975534717\n",
      "Time effect (γ): -1.4843496282202846\n",
      "DiD estimator (δ): -1.78977639826074\n"
     ]
    }
   ],
   "source": [
    "df['t'] = df['Year'].astype(int)\n",
    "\n",
    "df['interaction'] = df['treated'] * df['t']\n",
    "\n",
    "model = smf.ols(formula='PacksPerCapita ~ treated + t + interaction', data=df)\n",
    "results = model.fit()\n",
    "\n",
    "# print(results.summary())\n",
    "\n",
    "alpha = results.params['Intercept']\n",
    "beta = results.params['treated']\n",
    "gamma = results.params['t']\n",
    "delta = results.params['interaction']\n",
    "\n",
    "print(f\"Intercept (α): {alpha}\")\n",
    "print(f\"Treatment group effect (β): {beta}\")\n",
    "print(f\"Time effect (γ): {gamma}\")\n",
    "print(f\"DiD estimator (δ): {delta}\")"
   ]
  },
  {
   "cell_type": "markdown",
   "metadata": {},
   "source": [
    "# "
   ]
  }
 ],
 "metadata": {
  "kernelspec": {
   "display_name": "base",
   "language": "python",
   "name": "python3"
  },
  "language_info": {
   "codemirror_mode": {
    "name": "ipython",
    "version": 3
   },
   "file_extension": ".py",
   "mimetype": "text/x-python",
   "name": "python",
   "nbconvert_exporter": "python",
   "pygments_lexer": "ipython3",
   "version": "3.11.5"
  }
 },
 "nbformat": 4,
 "nbformat_minor": 2
}
