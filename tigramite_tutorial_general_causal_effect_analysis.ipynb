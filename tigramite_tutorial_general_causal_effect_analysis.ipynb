{
 "cells": [
  {
   "cell_type": "markdown",
   "metadata": {},
   "source": [
    "# Causal effect estimation with `TIGRAMITE`\n",
    "\n",
    "TIGRAMITE is a time series analysis python module. It allows to reconstruct graphical models (conditional independence graphs) from discrete or continuously-valued time series based on the PCMCI framework and create high-quality plots of the results. \n",
    "\n",
    "This tutorial explains the CausalEffects class from ``causal_effects.py`` which allows to estimate general linear and nonlinear (conditional) causal effects and mediation with optimal adjustment sets. The main background paper explaining optimal adjustment theory is:\n",
    "\n",
    "J. Runge, Necessary and sufficient graphical conditions for optimal adjustment sets in causal graphical models with hidden variables, Advances in Neural Information Processing Systems, 2021, 34\n",
    "https://proceedings.neurips.cc/paper/2021/hash/8485ae387a981d783f8764e508151cd9-Abstract.html\n",
    "\n",
    "__Note:__ the CausalEffects class explicitely addresses not only time series, but also non-time series data."
   ]
  },
  {
   "cell_type": "code",
   "execution_count": 1,
   "metadata": {
    "scrolled": true
   },
   "outputs": [],
   "source": [
    "# Imports\n",
    "\n",
    "import numpy as np\n",
    "import matplotlib\n",
    "from matplotlib import pyplot as plt\n",
    "%matplotlib inline     \n",
    "## use `%matplotlib notebook` for interactive figures\n",
    "# plt.style.use('ggplot')\n",
    "from scipy.stats import gaussian_kde\n",
    "\n",
    "import tigramite\n",
    "from tigramite import data_processing as pp\n",
    "from tigramite.toymodels import structural_causal_processes as toys\n",
    "from tigramite import plotting as tp\n",
    "\n",
    "from tigramite.models import Models\n",
    "from tigramite.causal_effects import CausalEffects\n",
    "\n",
    "import sklearn\n",
    "from sklearn.linear_model import LinearRegression, LogisticRegression\n",
    "from sklearn.neighbors import KNeighborsRegressor\n",
    "from sklearn.neural_network import MLPRegressor\n",
    "from sklearn.gaussian_process import GaussianProcessRegressor\n",
    "# Find more estimators in sklearn!"
   ]
  },
  {
   "cell_type": "markdown",
   "metadata": {},
   "source": [
    "# Background: Pearl's causal effect framework and optimal adjustment\n",
    "\n",
    "A standard problem setting in causal inference is to estimate the causal effect of a variable $X$ on $Y$ given a causal graphical model that specifies qualitative causal relations among observed variables, including a possible presence of hidden confounding variables. This is different from causal discovery where the task is to estimate a causal graph from data. The PC algorithm is a typical causal discovery method and the PCMCI method and its variants PCMCIplus and LPCMCI a modification for time series. Once a causal graph has been estimated with a causal discovery method, one may use it to estimate quantitative causal effects."
   ]
  },
  {
   "cell_type": "markdown",
   "metadata": {},
   "source": [
    "## Causal effects\n",
    "\n",
    "In Pearl's framework the __causal effect__ of setting $X=x$ on $Y$ is a function of the interventional distribution $p(Y|do(X=x))$. This distribution is fundamentally different from the conditional $p(Y|X=x)$! The basis of Pearl's framework is the assumption of an underlying (but unknown) structural causal model (SCM) among random variables, for example,\n",
    "\n",
    "\\begin{align*}\n",
    "X  &:= f_X(Z, \\eta_X) \\\\\n",
    "Y & :=  f_Y(X, Z, \\eta_Y) \\\\\n",
    "Z & :=  f_Z(\\eta_Z)\n",
    "\\end{align*}\n",
    "\n",
    "where $f()$ are to be understood as *assignment functions* by which the value of the random variable on the left is determined by the direct causes (also called parents) and noise terms $\\eta_{\\cdot}$ on the right-hand-side. These noise terms represent further causal drivers that are assumed to be independent of each other. In the associated graph an edge is drawn from, e.g., $Z$ to $X$ if $X$ occurs as an (non-trivial) argument in the assignment function. This causal graph is assumed acyclic and represents the qualitative causal relations:\n",
    "\n",
    "<img src=\"figures/xyz_graph.png\" width=150/>\n",
    "\n",
    "In this SCM $p(Y|do(X=x))$ is to be interpreted as the (interventional) probability distribution of the intervened SCM where the assignment equation of $X$ is replaced:\n",
    "\n",
    "\\begin{align*}\n",
    "X  &:= x \\\\\n",
    "Y & :=  f_Y(X, Z, \\eta_Y) \\\\\n",
    "Z & :=  f_Z(\\eta_Z)\n",
    "\\end{align*}\n",
    "\n",
    "This mimics the experimental intervention setup. In the corresponding graph all links into the intervened variable are deleted. Given this SCM the __average causal effect__ of the intervention $do(X=x)$ compared to the intervention $do(X=x')$ is defined as\n",
    "\n",
    "\\begin{align*} \n",
    " \\Delta_{yxx'} = \\mathbb{E}[Y|do(x)] - \\mathbb{E}[Y|do(x')]\\,.\n",
    "\\end{align*}"
   ]
  },
  {
   "cell_type": "markdown",
   "metadata": {},
   "source": [
    "### Conditional causal effects\n",
    "\n",
    "Sometimes, one may be interested in the causal effect *conditional* on values $S=s$ of another variable $S$ in the graph. The __conditional causal effect distribution__ is denoted as\n",
    "\n",
    "$$\n",
    "p(Y|do(X=x), S=s) \n",
    "$$\n",
    "\n",
    "and is based on the experiment of first interventionally setting $X=x$ and *then* considering the conditional interventional distribution for $S=s$. Then the __average conditional causal effect__ of the intervention $do(X=x)$ compared to the intervention $do(X=x')$ conditional on $S=s$ is defined as\n",
    "\n",
    "\\begin{align*} \n",
    " \\Delta_{yxx'|s} = \\mathbb{E}[Y|do(x),s] - \\mathbb{E}[Y|do(x'),s]\\,.\n",
    "\\end{align*}"
   ]
  },
  {
   "cell_type": "markdown",
   "metadata": {},
   "source": [
    "### Multivariate causal effects\n",
    "\n",
    "Multivariate causal effects of $\\mathbf{X}$ on $\\mathbf{Y}$ are defined accordingly. Note that one can always decompose causal effects on a multivariate $\\mathbf{Y}$ into the individual effects on $Y\\in\\mathbf{Y}$. On the other hand, an intervention in a singleton $X\\in\\mathbf{X}$ refers to a fundamentally different experiment than an intervention in the whole multivariate $\\mathbf{X}$."
   ]
  },
  {
   "cell_type": "markdown",
   "metadata": {},
   "source": [
    "## Adjustment\n",
    "\n",
    "Pearl's theory allows to utilize purely graphical knowledge to employ criteria to characterize whether a causal effect of $X$ on $Y$ among observed variables $\\mathbf{V}$ is *identifiable*, i.e., whether the interventional target query can be written as\n",
    "\n",
    "\\begin{align*}\n",
    "p(Y|do(X=x)) = q(p(\\mathbf{V}))\n",
    "\\end{align*}\n",
    "\n",
    "where $q(p(\\mathbf{V}))$ is some function, called the *estimand*, of the observational distribution. The general *do calculus* (Pearl 2009, Shpitser et al., 2010) can be used to completely characterize when this is the case. One class of estimands is based on *backdoor adjustment* where a suitable (possibly empty) set of adjustment variables $\\mathbf{Z}$ allows to express the *interventional distribution* for setting $do(X=x)$ in terms of the *observational distribution* as\n",
    "\n",
    "$$\n",
    "p(Y|do(X=x)) = \\int p(Y|x,\\mathbf{z}) p(\\mathbf{z}) d\\mathbf{z}\n",
    "$$\n",
    "\n",
    "for non-empty $\\mathbf{Z}$ and as $ p(Y|do(X=x)) = p(Y|x)$ for empty $\\mathbf{Z}=\\emptyset$. Such a set is  called a *valid adjustment set* relative to ($X,Y$).\n",
    "To repeat, the clue here is that interventional causal effects can be computed without intervention, but only based on the observational data, if the assumed graph is correct. \n",
    "\n",
    "Here we only consider __generalized backdoor adjustment__ which yields a sufficient, but not necessary criterion to identify causal effects. To this end denote by $M$ the mediator nodes on causal paths from $X$ to $Y$ and the *forbidden nodes* as forb$(X,Y)= X\\cup des(YM)$ where $des$ denotes the descendants in the graph. According to the *generalized backdoor criterion* (Perkovic et al., 2018) an adjustment set $Z$ is valid if and only if both of the following conditions hold:\n",
    "\n",
    "1. $\\mathbf{Z}\\cap \\text{forb}=\\emptyset$, and \n",
    "2. all non-causal paths  from $X$ to $Y$ are blocked by $\\mathbf{Z}$. \n",
    "\n",
    "A causal path from $X$ to $Y$ consists of only directed edges towards $Y$, all other paths are called non-causal. An adjustment set is called *minimal* if no strict subset of $\\mathbf{Z}$ is still valid. "
   ]
  },
  {
   "cell_type": "markdown",
   "metadata": {},
   "source": [
    "### Optimal adjustment sets\n",
    "\n",
    "We denote an estimator given a valid adjustment set $\\mathbf{Z}$ as $\\widehat{\\Delta}_{yxx'|\\mathbf{s}.\\mathbf{z}}$. Estimators of causal effects based on such a valid adjustment set as a covariate are unbiased, but for different adjustment sets the *estimation variance* may strongly vary. An __optimal adjustment set__ may be characterized as one that has minimal asymptotic estimation variance. More formally, the task is, given a graph and $(X,Y,S)$ ($S$ may be empty), to choose a valid optimal set $\\mathbf{Z}$ such that the causal effect estimator's asymptotic variance $\\text{Var}(\\widehat{\\Delta}_{yxx'|\\mathbf{s}.\\mathbf{z}})=E[(\\Delta_{yxx'|\\mathbf{s}} - \\widehat{\\Delta}_{yxx'|\\mathbf{s}.\\mathbf{z}})^2]$ is minimal:\n",
    "\n",
    "\\begin{align}\n",
    "\\mathbf{Z}_{\\rm optimal}\\in {\\rm argmin}_{\\mathbf{Z}} \\text{Var}(\\widehat{\\Delta}_{yxx'|\\mathbf{s}.\\mathbf{z}})\\,.\n",
    "\\end{align}\n",
    "\n",
    "The optimal adjustment set for general graphical models with hidden variables was derived in Runge (2021) following work by Henckel et l (2019) for the case without hidden variables. Define by $\\text{ancs}=an(\\mathbf{XYS})\\setminus \\text{forb}$ the valid anestors. Then the $\\mathbf{O}$-set is defined as:\n",
    "\n",
    "\\begin{align*}\n",
    "\\mathbf{O}(\\mathbf{X},\\mathbf{Y},\\mathbf{S}) &= \\mathbf{P} \\cup \\mathbf{C} \\cup \\mathbf{P}_{\\mathbf{C}}, \\quad\\text{where}\\\\\n",
    "   \\mathbf{P} &= pa(\\mathbf{Y}\\mathbf{M}) \\setminus \\text{forb} \\\\\n",
    "   \\mathbf{C} &= \\{C: C\\leftrightarrow \\cdots \\leftrightarrow W\\in\\mathbf{YM} ~\\text{and}~ (1)~C\\notin \\text{forb}, ~~~\\text{and}~~~ (2a)~C \\in \\text{ancs} ~\\text{or}~ (2b)~C \\perp\\!\\!\\!\\perp \\mathbf{X} ~|~\\text{ancs}  \\} \\\\\n",
    "   \\mathbf{P}_{\\mathbf{C}} &= pa(\\mathbf{C})  \n",
    "\\end{align*}\n",
    "\n",
    "where  $W\\leftrightarrow \\cdots \\leftrightarrow C$ denotes a collider path. If no hidden variables (or bidirected edges) are present, then $\\mathbf{O} = pa(\\mathbf{Y}\\mathbf{M}) \\setminus \\text{forb}$, which was derived by Henckel et al. (2019).\n",
    "\n",
    "For DAGs the $\\mathbf{O}$-set is always optimal while for graphs with hidden variables there can be cases where no optimal adjustment set exists that has the smallest variance among all adjustment sets for any distribution consistent with the graph (see paper). For tuples (graph, X, Y, S) where an optimal adjustment set exists we say that *graphical optimality holds*.\n",
    "\n",
    "Among the theoretical contributions of Runge (2021) are theorems stating that \n",
    "\n",
    "1. If and only if a valid backdoor adjustment set exists, then the $\\mathbf{O}$-set is a valid adjustment set.\n",
    "2. The $\\mathbf{O}$-set has smaller variance than the Adjust-set for any graph.\n",
    "3. A complete characterization for which tuples (graph, X, Y, S) graphical optimality holds.\n",
    "\n",
    "These results were proven to hold for linear estimators. However, in extensive numerical experiments it was shown that the $\\mathbf{O}$-set or variants thereof typically outperform other adjustment sets also for estimators based on neural nets, k-nearest neighbors, random forests, or Gaussian processes.\n",
    "\n",
    "One such variant of the $\\mathbf{O}$-set is the *collider-minimized* $\\mathbf{O}$-set where collider nodes that do not block non-causal paths are removed. This set has smaller cardinality than the $\\mathbf{O}$-set which can help for more complex estimators that suffer from the curse of dimensionality."
   ]
  },
  {
   "cell_type": "markdown",
   "metadata": {},
   "source": [
    "## Estimating causal effects through adjustment\n",
    "\n",
    "We focus on the average treatment effect defined as\n",
    "\n",
    "\\begin{align*} \n",
    " \\Delta_{yxx'} = \\mathbb{E}[Y|do(x)] - \\mathbb{E}[Y|do(x')]\\,.\n",
    "\\end{align*}\n",
    "\n",
    "The individual terms can be estimated using an adjustment set $\\mathbf{Z}$ as\n",
    "\n",
    "\\begin{align*} \n",
    "\\mathbb{E}[Y|do(x)] &= \\mathbb{E}_{\\mathbf{Z}}\\left[ \\mathbb{E}_{Y|X,\\mathbf{Z}}[Y|X=x, \\mathbf{Z}=\\mathbf{z}]\\right]\n",
    "\\end{align*}\n",
    "\n",
    "The approach currently implemented in the Tigramite ``CausalEffects`` class  is to estimate the inner expectation by some (here sklearn-) model $Y=\\widehat{f}(X,\\mathbf{Z})$ from the *observed* data for $(X, Y, \\mathbf{Z})$, then evaluate $\\widehat{f}(X=x,\\mathbf{Z}=\\mathbf{z}_t)$ at the *intervened* value $X=x$ and the *observed* values $\\mathbf{Z}=\\mathbf{z}_t$, and then take the expectation:\n",
    "\n",
    "\\begin{align*} \n",
    "\\mathbb{E}[Y|do(x)] &= \\frac{1}{n} \\sum_t \\widehat{f}(X=x,\\mathbf{Z}=\\mathbf{z}_t)\n",
    "\\end{align*}\n",
    "\n",
    "where $n$ is the sample size of $\\mathbf{Z}$."
   ]
  },
  {
   "cell_type": "markdown",
   "metadata": {},
   "source": [
    "### Linear case\n",
    "\n",
    "For the linear case, but here assuming a multivariate intervention in $\\mathbf{X}$, the causal effect wrt to $X_i$ can be written as\n",
    "\n",
    "\\begin{align*} \n",
    "\\frac{\\partial }{\\partial x_i}\\mathbb{E}[Y|do(\\mathbf{X}=\\mathbf{x})]\n",
    "\\end{align*}\n",
    "\n",
    "It is equal to the regression coefficient $\\beta_{YX_i\\cdot \\mathbf{Z}\\mathbf{X}\\setminus X_i}$ in the model\n",
    "\n",
    "\\begin{align*}\n",
    " Y &= \\sum_i \\beta_{YX_i\\cdot \\mathbf{Z}\\mathbf{X}\\setminus X_i} X_i + \\sum_j \\beta_{Y Z_i\\cdot \\mathbf{X}\\mathbf{Z}\\setminus Z_i} Z_i   \n",
    "\\end{align*}"
   ]
  },
  {
   "cell_type": "markdown",
   "metadata": {},
   "source": [
    "### Estimating conditional causal effects\n",
    "\n",
    "Conditional effects cannot occur in linear models, so this applies only to nonlinear models.\n",
    "\n",
    "The conditional average treatment effect of a potentially multivariate intervention $do(\\mathbf{X}=\\mathbf{x})$ compared to the intervention $do(\\mathbf{X}=\\mathbf{x}')$ given $\\mathbf{S}=\\mathbf{s}$ is defined as follows:\n",
    "\n",
    "\\begin{align*} \n",
    " \\Delta_{y\\mathbf{x}\\mathbf{x}'|\\mathbf{s}} = \\mathbb{E}[Y|do(\\mathbf{x}),\\mathbf{s}] - \\mathbb{E}[Y|do(\\mathbf{x}'),\\mathbf{s}]\\,.\n",
    "\\end{align*}\n",
    "\n",
    "The individual terms can be estimated using an adjustment set $\\mathbf{Z}$ as\n",
    "\n",
    "\\begin{align*} \n",
    "\\mathbb{E}[Y|do(\\mathbf{x}),\\mathbf{s}] &= \\mathbb{E}_{\\mathbf{Z}|\\mathbf{S}}\\left[ \\mathbb{E}_{Y|\\mathbf{X},\\mathbf{Z},\\mathbf{S}}[Y|\\mathbf{X}=\\mathbf{x}, \\mathbf{Z}=\\mathbf{z}, \\mathbf{S}=\\mathbf{s}] | \\mathbf{S}=\\mathbf{s}\\right]\n",
    "\\end{align*}\n",
    "\n",
    "In its current implementation, these nested expectations are estimated by a nested regression where the inner expectation uses the ``estimator`` model and the outer expectation the ``conditional_estimator`` model. More specifially, the steps are:\n",
    "\n",
    "1. Fit inner expectation $Y = f(\\mathbf{X}=\\mathbf{x}_t,\\mathbf{Z}=\\mathbf{z}_t,\\mathbf{S}=\\mathbf{s}_t)$ using the ``estimator`` model on the observed data (indexed by $t$)\n",
    "2. Predict $\\widehat{Y}_{\\mathbf{X}\\mathbf{Z}\\mathbf{S}} = \\widehat{f}(\\mathbf{X}=\\mathbf{x},\\mathbf{Z}=\\mathbf{z}_t,\\mathbf{S}=\\mathbf{s})$, where $\\mathbf{z}_t$ are the *observed* values, $\\mathbf{x}$ the *interventional* values, and $\\mathbf{s}$ are the conditional values\n",
    "3. Fit outer expectation $\\widehat{Y}_{\\mathbf{X}\\mathbf{Z}\\mathbf{S}} = g(\\mathbf{S}=\\mathbf{s}_t)$ using the ``conditional_estimator`` model on the *observational* values of $\\mathbf{S}$\n",
    "4. Predict $\\widehat{Y}_{do(\\mathbf{X}),\\mathbf{S}} = \\widehat{g}(\\mathbf{S}=\\mathbf{s})$ where $\\mathbf{s}$ are the *conditional* values of $\\mathbf{S}$\n"
   ]
  },
  {
   "cell_type": "markdown",
   "metadata": {},
   "source": [
    "## Estimating linear effects with the Wright estimator\n",
    "\n",
    "Sewall Wright (Wright 1921) suggested already hundred years ago to estimate causal effects in linear models in a particular way that first estimates the so-called *path coefficients* for all links belonging to causal paths and then takes the sum over all causal paths of the products of these path coefficients. \n",
    "\n",
    "This approach only applies to DAGs and the estimator steps are:\n",
    "\n",
    "1. For all causal links $i\\to j$ belonging to causal paths from $X$ to $Y$, estimate the path coefficient $\\beta_{i\\to j}$ by regressing $j$ on all its parents and taking the coefficient belonging to parent $i$.\n",
    "2. Then the causal effect is\n",
    "\n",
    "$$\n",
    "CE = \\sum_{\\text{causal paths}} \\prod_{\\text{link $i\\to j$ in path}} \\beta_{i\\to j}\n",
    "$$\n",
    "\n",
    "By restricting this estimator to only paths that pass at least through one node among selected *mediators* $M^*$ one can also compute mediated causal effects (MCE). \n",
    "\n",
    "$$\n",
    "MCE = \\sum_{\\text{causal paths through at least one $M\\in M^*$}} \\prod_{\\text{link $i\\to j$ in path}} \\beta_{i\\to j}\n",
    "$$\n",
    "\n",
    "This is also implemented in the class through the parameter ``mediation``. For ``mediation='direct'`` only the __direct effect__ in the coefficient $\\beta_{X\\to Y}$, if non-zero, is returned."
   ]
  },
  {
   "cell_type": "markdown",
   "metadata": {},
   "source": [
    "## Types of graphs describing qualitative causal knowledge\n",
    "\n",
    "### Non-time series data\n",
    "\n",
    "Qualitative knowledge may come in different forms. For example, one may further assume that some variables in the __directed acyclic graph (DAG)__ are unobserved, here L:\n",
    "\n",
    "<img src=\"figures/xyzl_graph.png\" width=150/>\n",
    "\n",
    "Another way to represent the presence of hidden variables is through an __acyclic directed mixed graph (ADMG)__, which would here be\n",
    "\n",
    "<img src=\"figures/xyzl_graph_bi.png\" width=150/>\n",
    "\n",
    "An ADMG has directed and bidirected edges representing one or more latent confounder variables."
   ]
  },
  {
   "cell_type": "markdown",
   "metadata": {},
   "source": [
    "### Time series data\n",
    "\n",
    "In the context of time series, we consider time-dependent SCMs. An important assumption is that of stationarity, i.e., the SCM does not depend on a time point $t$. Then one may represent each variable at different instances of time as a node resulting in a __stationary DAG (statDAG)__: \n",
    "\n",
    "<img src=\"figures/tsg_graph.png\" width=400/>\n",
    "\n",
    "The stationarity assumption implies that this graph repeats into the past and future. Knowledge of all causal edges at time $t$ then suffices to represent all causal relations. The causal link with the maximal time lag (here 2) then defines the *order* of the process. In the above example you can see that a feesback cycle in the summary graph (left) actually is still a non-cyclic time series graph."
   ]
  },
  {
   "cell_type": "markdown",
   "metadata": {},
   "source": [
    "## Limitations of currently implemented methods\n",
    "\n",
    "The theory of stationary time series DAGs *with hidden variables* is much more complex and currently not treated in Tigramite. However, ADMGs are treated for the non-time series case.\n",
    "\n",
    "As mentioned above, the theoretical results on optimal adjustment sets have so far been only established for linear least-squares estimators and singleton $X$, but the numerical results show that the $\\mathbf{O}$-set or minimized variants thereof also hold for multivariate $X$ and often yield smaller variance also in non-optimal settings and for non-parametric estimators such as kNN, neural networks, gaussian processes, or random forests."
   ]
  },
  {
   "cell_type": "markdown",
   "metadata": {},
   "source": [
    "## References\n",
    "\n",
    "* Pearl, J. (2009). Causality: Models, reasoning, and inference. Cambridge University Press. \n",
    "\n",
    "* Perković, E., Textor, J., and Kalisch, M. (2018). Complete graphical characterization and construction of adjustment sets in markov equivalence classes of ancestral graphs. Journal of Machine Learning Research, 18:1–62.\n",
    "\n",
    "* Shpitser, I., VanderWeele, T., and Robins, J. M. (2010). On the validity of covariate adjustment for estimating causal effects.\n",
    "\n",
    "* Runge, J. (2021). Necessary and sufficient graphical conditions for optimal adjustment sets in causal graphical models with hidden variables. Advances in Neural Information Processing Systems, 34.\n",
    "\n",
    "* Henckel, L.; Perković, E. & Maathuis, M. H. (2019). Graphical criteria for efficient total effect estimation via adjustment in causal linear models arXiv preprint arXiv:1907.02435\n",
    "\n",
    "* Wright, S. (1921). Correlation and causation. J. Agric. Res., 20, 557-585 "
   ]
  },
  {
   "cell_type": "markdown",
   "metadata": {},
   "source": [
    "# Causal Effect class\n",
    "\n",
    "## Initialization\n",
    "\n",
    "``CausalEffects`` takes the following arguments:\n",
    "\n",
    "### ``graph``, ``graph_type``, and ``hidden_variables``\n",
    "\n",
    "``graph`` is a string array of ``dtype='<U3'`` in different shapes depending on ``graph_type``:\n",
    "\n",
    "* ``graph_type='dag'`` denotes a non-time series DAG where ``graph`` is of shape ``(N,N)`` with N denoting the number of nodes\n",
    "* ``graph_type='admg'`` denotes a non-time series ADMG where ``graph`` is of shape ``(N,N)``\n",
    "* ``graph_type='stationary_dag'`` denotes a stationary time series DAG where ``graph`` is of shape ``(N,N, tau_max + 1)`` where ``tau_max`` is the maximal time lag. The ``+1`` stands for contemporaneous relations. \n",
    "\n",
    "``hidden_variables`` is a list of tuples ``[(k, -tau), ...]`` containing hidden variables or, for time series graphs, more generally also only selected hidden time points of a variable ``k``. For example, ``(k, -tau)`` denotes $X^k_{t-\\tau}$. Note that currently hidden variables are not supported for time series.\n",
    "\n",
    "In each case the entries of the graph are of ``dtype='<U3'``: \n",
    "\n",
    "For ``graph_type='dag'`` the edges can be ``<--`` or ``-->``. For example, with variables $(L,X,Z,Y)$ the DAG above would be given as\n",
    "\n",
    "```\n",
    "graph = np.array([['', '-->', '-->', ''],\n",
    "                  ['<--', '', '', '-->'],\n",
    "                  ['<--', '', '', '-->'],\n",
    "                  ['', '<--', '<--', '']], dtype='<U3')\n",
    "```\n",
    "\n",
    "together with ``hidden_variables=[(0,0)]``.\n",
    "\n",
    "As an ADMG for ``graph_type='admg'`` the edges can be ``<--``, ``-->``,  ``<->``, ``+->``, or  ``<-+``. For example, with variables $(X,Z,Y)$ it would be \n",
    "\n",
    "```\n",
    "graph = np.array([['', '<->', '-->'],\n",
    "                   ['<->', '', '-->'],\n",
    "                   ['<--', '<--', '']], dtype='<U3')\n",
    "```\n",
    "\n",
    "The edge types ``+->`` and ``<-+`` represent the presence of both a directed and bidirected edge.\n",
    "\n",
    "Note that ``hidden_variables`` can also be specified for ADMG input, then internally a modified ADMG is constructed based on the *latent projection* operation (Pearl 2009).\n",
    "\n",
    "Finally, for ``graph_type='stationary_dag'`` the edges can be ``-->`` for time-lagged and contemporaneous links, and ``<--`` only for contemporaneous links, i.e., in ``graph[:,:,0]``. For example, for variables $(X^1,X^2,X^3)$ the graph in the section above would be given as\n",
    "\n",
    "```\n",
    "graph =  np.array([[['', '-->', ''],\n",
    "                    ['', '', ''],\n",
    "                    ['', '', '']],\n",
    "                   [['', '-->', ''],\n",
    "                    ['', '-->', ''],\n",
    "                    ['-->', '', '-->']],\n",
    "                   [['', '', ''],\n",
    "                    ['<--', '', ''],\n",
    "                    ['', '-->', '']]], dtype='<U3')\n",
    "```\n",
    "\n",
    "In all cases, the graph must be acyclic and have consistent edges, for example, ``graph[i,j,taui,tauj]='-->'`` requires ``graph[j,i,tauj,taui]='<--'``. For the stationary DAG this is only relevant for the zero lag, i.e., in ``graph[:,:,0]``.\n",
    "\n",
    "Internally, the ``CausalEffects`` class will convert a stationary DAG into an ADMG via a latent projection operation of shape ``(N,N, tau_max + 1, tau_max + 1)``. In this ADMG the adjustment sets are then computed. Such graphs can also directly by given as ``graph`` for ``graph_type='tsg_admg'`` or ``graph_type='tsg_dag'``.\n",
    "\n",
    "\n",
    "### ``X``,  ``Y``, and optionally  ``S``\n",
    "\n",
    "These represent the cause variable(s) $X$, the effect variable(s) $Y$ and, optionally, the conditioning variable(s) $S$. All are lists of tuples ``[(i, -tau), ...]`` for ``tau``$\\geq 0$. Given the graph, the class will check that no overlap exists, and that there actually is a causal path from $X$ to $Y$. Further, the conditions $S$ must not be in the forbidden set."
   ]
  },
  {
   "cell_type": "markdown",
   "metadata": {},
   "source": [
    "Let's start with the simple DAG with hidden variables above."
   ]
  },
  {
   "cell_type": "code",
   "execution_count": 2,
   "metadata": {},
   "outputs": [
    {
     "name": "stdout",
     "output_type": "stream",
     "text": [
      "\n",
      "##\n",
      "## Initializing CausalEffects class\n",
      "##\n",
      "\n",
      "Input:\n",
      "\n",
      "graph_type = dag\n",
      "X = [(1, 0)]\n",
      "Y = [(3, 0)]\n",
      "S = []\n",
      "M = []\n",
      "\n",
      "hidden_variables = {(0, 0)}\n",
      "\n",
      "\n",
      "\n"
     ]
    }
   ],
   "source": [
    "graph = np.array([['', '-->', '-->', ''],\n",
    "                  ['<--', '', '', '-->'],\n",
    "                  ['<--', '', '', '-->'],\n",
    "                  ['', '<--', '<--', '']], dtype='<U3')\n",
    "hidden_variables = [(0,0)]\n",
    "X = [(1,0)]\n",
    "Y = [(3,0)]\n",
    "causal_effects = CausalEffects(graph, graph_type='dag', X=X, Y=Y, S=None, \n",
    "                               hidden_variables=hidden_variables, \n",
    "                               verbosity=1)"
   ]
  },
  {
   "cell_type": "markdown",
   "metadata": {},
   "source": [
    "Internally, the DAG with hidden variables will be converted to an ADMG through the latent projection operation. Let's plot the ADMG using the ``plot_graph`` function from the ``tigramite.plotting`` module. You can have a look at the docstring to see further options to change the position of nodes, coloring, etc."
   ]
  },
  {
   "cell_type": "code",
   "execution_count": 3,
   "metadata": {},
   "outputs": [
    {
     "data": {
      "image/png": "[encoded data removed]",
      "text/plain": [
       "<Figure size 400x400 with 1 Axes>"
      ]
     },
     "metadata": {},
     "output_type": "display_data"
    }
   ],
   "source": [
    "# Just for plotting purposes\n",
    "var_names = ['$L$', '$X$', '$Z$', '$Y$']\n",
    "tp.plot_graph(graph = causal_effects.graph,\n",
    "        var_names=var_names, \n",
    "#         save_name='Example.pdf',\n",
    "        figsize = (4, 4),\n",
    "        ); plt.show()"
   ]
  },
  {
   "cell_type": "markdown",
   "metadata": {},
   "source": [
    "    Next we show the stationary time series DAG from above using the ``plot_time_series_graph`` function."
   ]
  },
  {
   "cell_type": "code",
   "execution_count": 4,
   "metadata": {},
   "outputs": [
    {
     "name": "stdout",
     "output_type": "stream",
     "text": [
      "\n",
      "##\n",
      "## Initializing CausalEffects class\n",
      "##\n",
      "\n",
      "Input:\n",
      "\n",
      "graph_type = stationary_dag\n",
      "X = [(1, -2)]\n",
      "Y = [(2, 0)]\n",
      "S = []\n",
      "M = [(1, 0), (2, -1), (2, -2), (1, -1)]\n",
      "\n",
      "\n",
      "\n"
     ]
    },
    {
     "data": {
      "image/png": "[encoded data removed]",
      "text/plain": [
       "<Figure size 800x400 with 1 Axes>"
      ]
     },
     "metadata": {},
     "output_type": "display_data"
    }
   ],
   "source": [
    "graph =  np.array([[['', '-->', ''],\n",
    "                    ['', '', ''],\n",
    "                    ['', '', '']],\n",
    "                   [['', '-->', ''],\n",
    "                    ['', '-->', ''],\n",
    "                    ['-->', '', '-->']],\n",
    "                   [['', '', ''],\n",
    "                    ['<--', '', ''],\n",
    "                    ['', '-->', '']]], dtype='<U3')\n",
    "\n",
    "X = [(1,-2)]\n",
    "Y = [(2,0)]\n",
    "causal_effects = CausalEffects(graph, graph_type='stationary_dag', X=X, Y=Y, S=None, \n",
    "                               hidden_variables=None, #[(1, -1)], \n",
    "                               verbosity=1)\n",
    "var_names = ['$X^0$', '$X^1$', '$X^2$']\n",
    "tp.plot_time_series_graph(graph = graph,\n",
    "        var_names=var_names, \n",
    "#         save_name='Example.pdf',\n",
    "        figsize = (8, 4),\n",
    "        ); plt.show()"
   ]
  },
  {
   "cell_type": "markdown",
   "metadata": {},
   "source": [
    "The above graph is a time series graph that is assumed stationary and, hence, repeats the above edges to the past and future. Internally, the ``CausalEffects`` class doesn't deal with these infinite graph, but rather constructs a finite ADMG with the same d-separations via a (more involved) latent projection operation for stationary graphs.\n",
    "\n",
    "Below is this finite ``tsg_admg`` on which adjustment and paths are based."
   ]
  },
  {
   "cell_type": "code",
   "execution_count": 5,
   "metadata": {},
   "outputs": [
    {
     "data": {
      "image/png": "[encoded data removed]",
      "text/plain": [
       "<Figure size 800x400 with 1 Axes>"
      ]
     },
     "metadata": {},
     "output_type": "display_data"
    }
   ],
   "source": [
    "tp.plot_time_series_graph(graph = causal_effects.graph,\n",
    "        var_names=var_names, \n",
    "#         save_name='Example.pdf',\n",
    "        figsize = (8, 4),\n",
    "        ); plt.show()"
   ]
  },
  {
   "cell_type": "markdown",
   "metadata": {},
   "source": [
    "The graph shown is the ADMG extended to $\\tau_{\\max}=maxlag(X,Y,S)+graph.shape[2] - 1$ (here $\\tau_{\\max}=4$). The reasoning behind this choice is that the $\\mathbf{O}$-set consisting of the parents of $Y$ and $M$ can then be fully reconstructed and, hence, is a valid adjustment set. The link ``+->`` indicates the presence of both a confounding ``<->`` and a causal link ``-->``."
   ]
  },
  {
   "cell_type": "markdown",
   "metadata": {},
   "source": [
    "You may also use the static method ``CausalEffects.get_graph_from_dict(links, tau_max=None)`` to generate a graph from a link dictionary of the form ``{0:[(0, -1), ...], 1:[...], ...}``. Also the format ``{0:[((0, -1), coeff, func), ...], 1:[...], ...}`` is allowed which is used to generate toy model data in tigramite. The ``coeff`` and ``func`` parameters are ignored for the graph construction. The shape of ``graph`` will be ``(N, N, tau_max+1)`` where ``tau_max`` is either automatically inferred from the dictionary or can be given as an argument. If you want greate a non-timeseries DAG of shape ``(N, N)``, just provide links with zero-lag and then squeeze the graph:  ``dag_graph=graph.squeeze()``.\n",
    "\n",
    "Since it's a static method, you do *not* need to intitialize ``CausalEffects`` beforehand!"
   ]
  },
  {
   "cell_type": "code",
   "execution_count": 7,
   "metadata": {},
   "outputs": [
    {
     "name": "stdout",
     "output_type": "stream",
     "text": [
      "[[['' '-->' '' '']\n",
      "  ['' '' '' '-->']\n",
      "  ['' '' '' '']]\n",
      "\n",
      " [['' '' '' '']\n",
      "  ['' '-->' '' '']\n",
      "  ['-->' '' '' '']]\n",
      "\n",
      " [['' '' '' '']\n",
      "  ['<--' '' '' '']\n",
      "  ['' '-->' '' '']]]\n"
     ]
    }
   ],
   "source": [
    "def lin_f(x): return x\n",
    "links = {0: [(0, -1)],\n",
    "         1: [(1, -1), (0, -3)],\n",
    "         2: [(2, -1), (1, 0)],\n",
    "         }\n",
    "graph = CausalEffects.get_graph_from_dict(links, tau_max=None)\n",
    "print(graph)"
   ]
  },
  {
   "cell_type": "markdown",
   "metadata": {},
   "source": [
    "Let's consider a more complex non-time series ADMG with multivariate $X$."
   ]
  },
  {
   "cell_type": "code",
   "execution_count": 8,
   "metadata": {},
   "outputs": [
    {
     "name": "stdout",
     "output_type": "stream",
     "text": [
      "\n",
      "##\n",
      "## Initializing CausalEffects class\n",
      "##\n",
      "\n",
      "Input:\n",
      "\n",
      "graph_type = admg\n",
      "X = [(0, 0), (1, 0)]\n",
      "Y = [(3, 0)]\n",
      "S = []\n",
      "M = [(2, 0)]\n",
      "\n",
      "\n",
      "\n"
     ]
    }
   ],
   "source": [
    "graph =  np.array([['', '-->', '', '', '', '', ''],\n",
    "                   ['<--', '', '-->', '-->', '', '<--', ''],\n",
    "                   ['', '<--', '', '-->', '', '<--', ''],\n",
    "                   ['', '<--', '<--', '', '<->', '', '<--'],\n",
    "                   ['', '', '', '<->', '', '<--', ''],\n",
    "                   ['', '-->', '-->', '', '-->', '', ''],\n",
    "                   ['', '', '', '-->', '', '', '']], dtype='<U3')\n",
    "\n",
    "X = [(0,0), (1,0)]\n",
    "Y = [(3,0)]\n",
    "causal_effects = CausalEffects(graph, graph_type='admg', X=X, Y=Y, S=None, hidden_variables=None, \n",
    "                            verbosity=1)\n",
    "# Just for plotting purposes\n",
    "var_names = ['$X_1$', '$X_2$', '$M$', '$Y$', '$Z_1$', '$Z_2$', '$Z_3$']\n"
   ]
  },
  {
   "cell_type": "code",
   "execution_count": 9,
   "metadata": {},
   "outputs": [
    {
     "data": {
      "image/png": "[encoded data removed]",
      "text/plain": [
       "<Figure size 800x600 with 1 Axes>"
      ]
     },
     "metadata": {},
     "output_type": "display_data"
    }
   ],
   "source": [
    "tp.plot_graph(graph = graph,\n",
    "        var_names=var_names, \n",
    "#         save_name='Example.pdf',\n",
    "        figsize = (8, 6),\n",
    "        ); plt.show()"
   ]
  },
  {
   "cell_type": "markdown",
   "metadata": {},
   "source": [
    "## Checks\n",
    "\n",
    "The mediators $M$ are automatically computed from the graph. This is an ADMG since there is a bidirected edge between $Y$ and $Z_1$.\n",
    "\n",
    "Before considering adjustment sets, we can check whether one can actually remove nodes from $\\mathbf{X}$ (or $\\mathbf{Y}$) that do not contribute to proper causal paths."
   ]
  },
  {
   "cell_type": "code",
   "execution_count": 10,
   "metadata": {},
   "outputs": [
    {
     "name": "stdout",
     "output_type": "stream",
     "text": [
      "Consider pruning X = {(1, 0), (0, 0)} to X = {(1, 0)} since only these have causal path to Y\n"
     ]
    }
   ],
   "source": [
    "newX, newY = causal_effects.check_XYS_paths()"
   ]
  },
  {
   "cell_type": "markdown",
   "metadata": {},
   "source": [
    "Here this is the case, but we will keep the original $X$ since it doesn't change the causal effect estimation."
   ]
  },
  {
   "cell_type": "markdown",
   "metadata": {},
   "source": [
    "## Adjustment sets\n",
    "\n",
    "We could now directly move on to the ``fit_total_effect`` and ``predict_total_effect`` functions which automatically use the optimal adjustment set. But before that, we briefly discuss different possible adjustment sets.\n",
    "\n",
    "The default implemented in the class is the $\\mathbf{O}$-set. For the graph above it would be:"
   ]
  },
  {
   "cell_type": "code",
   "execution_count": 11,
   "metadata": {},
   "outputs": [
    {
     "name": "stdout",
     "output_type": "stream",
     "text": [
      "Oset =  [('$Z_1$', 0), ('$Z_2$', 0), ('$Z_3$', 0)]\n"
     ]
    }
   ],
   "source": [
    "opt = causal_effects.get_optimal_set()\n",
    "print(\"Oset = \", [(var_names[v[0]], v[1]) for v in opt])\n"
   ]
  },
  {
   "cell_type": "code",
   "execution_count": 12,
   "metadata": {},
   "outputs": [
    {
     "data": {
      "image/png": "[encoded data removed]",
      "text/plain": [
       "<Figure size 800x600 with 1 Axes>"
      ]
     },
     "metadata": {},
     "output_type": "display_data"
    }
   ],
   "source": [
    "special_nodes = {}\n",
    "for node in causal_effects.X:\n",
    "    special_nodes[node] = 'red'\n",
    "for node in causal_effects.Y:\n",
    "    special_nodes[node] = 'blue'\n",
    "for node in opt:\n",
    "    special_nodes[node] = 'orange'\n",
    "for node in causal_effects.M:\n",
    "    special_nodes[node] = 'lightblue'\n",
    "\n",
    "tp.plot_graph(graph = graph,\n",
    "        var_names=var_names, \n",
    "#         save_name='Example.pdf',\n",
    "        figsize = (8, 6),\n",
    "        special_nodes=special_nodes,\n",
    "        ); plt.show()"
   ]
  },
  {
   "cell_type": "markdown",
   "metadata": {},
   "source": [
    "Here it consists of the parents of $Y$ and $M$ (here $Z_3,Z_2$), *valid collider paths* emanating from $YM$ (here $Y\\leftrightarrow Z_1$), and the parents of these valid colliders (here $Z_2$, which is already part of the set). \n",
    "\n",
    "An alternative is the ancs-set defined above (Perkovic et al., 2018) which consists of the ancestors of X and Y (and optionally S) from which forbidden nodes are removed."
   ]
  },
  {
   "cell_type": "code",
   "execution_count": 13,
   "metadata": {},
   "outputs": [
    {
     "name": "stdout",
     "output_type": "stream",
     "text": [
      "Adjust-set =  [('$Z_2$', 0), ('$Z_3$', 0)]\n"
     ]
    }
   ],
   "source": [
    "adj = causal_effects._get_adjust_set()\n",
    "print(\"Adjust-set = \", [(var_names[v[0]], v[1]) for v in adj])"
   ]
  },
  {
   "cell_type": "code",
   "execution_count": 14,
   "metadata": {},
   "outputs": [
    {
     "data": {
      "image/png": "[encoded data removed]",
      "text/plain": [
       "<Figure size 800x600 with 1 Axes>"
      ]
     },
     "metadata": {},
     "output_type": "display_data"
    }
   ],
   "source": [
    "special_nodes = {}\n",
    "for node in causal_effects.X:\n",
    "    special_nodes[node] = 'red'\n",
    "for node in causal_effects.Y:\n",
    "    special_nodes[node] = 'blue'\n",
    "for node in adj:\n",
    "    special_nodes[node] = 'orange'\n",
    "for node in causal_effects.M:\n",
    "    special_nodes[node] = 'lightblue'\n",
    "\n",
    "tp.plot_graph(graph = graph,\n",
    "        var_names=var_names, \n",
    "#         save_name='Example.pdf',\n",
    "        figsize = (8, 6),\n",
    "        special_nodes=special_nodes,\n",
    "        ); plt.show()"
   ]
  },
  {
   "cell_type": "markdown",
   "metadata": {},
   "source": [
    "The difference to the optimal set is that the node $Z_1$ is not part of the Adjust-set. However, as studied in the paper, adding valid collider path nodes of Y and M (and their parents) to the adjustment set helps to reduce the estimators variance.\n",
    "\n",
    "Here the *collider-minimized* $\\mathbf{O}$-set would be:"
   ]
  },
  {
   "cell_type": "code",
   "execution_count": 15,
   "metadata": {},
   "outputs": [
    {
     "name": "stdout",
     "output_type": "stream",
     "text": [
      "Cmin-Oset =  [('$Z_2$', 0), ('$Z_3$', 0)]\n"
     ]
    },
    {
     "data": {
      "image/png": "[encoded data removed]",
      "text/plain": [
       "<Figure size 800x600 with 1 Axes>"
      ]
     },
     "metadata": {},
     "output_type": "display_data"
    }
   ],
   "source": [
    "cminopt = causal_effects.get_optimal_set(minimize='colliders_only')\n",
    "print(\"Cmin-Oset = \", [(var_names[v[0]], v[1]) for v in cminopt])\n",
    "special_nodes = {}\n",
    "for node in causal_effects.X:\n",
    "    special_nodes[node] = 'red'\n",
    "for node in causal_effects.Y:\n",
    "    special_nodes[node] = 'blue'\n",
    "for node in cminopt:\n",
    "    special_nodes[node] = 'orange'\n",
    "for node in causal_effects.M:\n",
    "    special_nodes[node] = 'lightblue'\n",
    "\n",
    "tp.plot_graph(graph = graph,\n",
    "        var_names=var_names, \n",
    "#         save_name='Example.pdf',\n",
    "        figsize = (8, 6),\n",
    "        special_nodes=special_nodes,\n",
    "        ); plt.show()"
   ]
  },
  {
   "cell_type": "markdown",
   "metadata": {},
   "source": [
    "Here $Z_1$ is removed.\n",
    "\n",
    "Let's check whether for this setting *graphical optimality* holds."
   ]
  },
  {
   "cell_type": "code",
   "execution_count": 16,
   "metadata": {},
   "outputs": [
    {
     "name": "stdout",
     "output_type": "stream",
     "text": [
      "Optimality = True with cond_0 = False, cond_I = True, cond_II = True\n",
      "(Graph, X, Y, S) fulfills optimality:  True\n"
     ]
    }
   ],
   "source": [
    "optimality = causal_effects.check_optimality()\n",
    "print(\"(Graph, X, Y, S) fulfills optimality: \", optimality)"
   ]
  },
  {
   "cell_type": "markdown",
   "metadata": {},
   "source": [
    "Hence, for this graph the $\\mathbf{O}$-set yields the smallest asymptotic estimation variance for *any* distribution consistent with the graph, at least for linear estimators."
   ]
  },
  {
   "cell_type": "markdown",
   "metadata": {},
   "source": [
    "## Estimating general total causal effects \n",
    "\n",
    "We now move to estimating total causal effects utilizing graphical generalized backdoor adjustment with the optimal adjustment set.\n",
    "\n",
    "### Ground truth toy model\n",
    "First let's generate some data from an SCM with the above graph using the tigramite function ``toys.structural_causal_process`` with Gaussian unit variance noise (``noises=None``)"
   ]
  },
  {
   "cell_type": "code",
   "execution_count": 17,
   "metadata": {},
   "outputs": [],
   "source": [
    "def lin_f(x): return x\n",
    "coeff = .5\n",
    "links_coeffs = {\n",
    "                0: [], \n",
    "                1: [((0, 0), coeff, lin_f), ((5, 0), coeff, lin_f)], \n",
    "                2: [((1, 0), coeff, lin_f), ((5, 0), coeff, lin_f)],\n",
    "                3: [((1, 0), coeff, lin_f), ((2, 0), coeff, lin_f), ((6, 0), coeff, lin_f), ((7, 0), coeff, lin_f)],\n",
    "                4: [((5, 0), coeff, lin_f), ((7, 0), coeff, lin_f)], \n",
    "                5: [],\n",
    "                6: [],\n",
    "                7: [],\n",
    "                }\n",
    "T = 10000\n",
    "data, nonstat = toys.structural_causal_process(links_coeffs, T=T, noises=None, seed=7)\n",
    "# Time series no 7 is unobserved confounder\n",
    "data = data[:, [0,1,2,3,4,5,6]]\n",
    "dataframe = pp.DataFrame(data)"
   ]
  },
  {
   "cell_type": "markdown",
   "metadata": {},
   "source": [
    "First, we plot data. This can be done with the function ``tp.plot_timeseries``"
   ]
  },
  {
   "cell_type": "code",
   "execution_count": null,
   "metadata": {
    "scrolled": true
   },
   "outputs": [],
   "source": [
    "tp.plot_timeseries(dataframe); plt.show()"
   ]
  },
  {
   "cell_type": "markdown",
   "metadata": {},
   "source": [
    "### Ground truth interventional data\n",
    "\n",
    "Before predicting the effect of interventions, we take a look at the ground truth, which we can generate here since we have the underlying SCM. We generate the interventional data for the two interventions $x_1=x_2=1$ and $x_1'=x_2'=0$"
   ]
  },
  {
   "cell_type": "code",
   "execution_count": null,
   "metadata": {},
   "outputs": [],
   "source": [
    "T = 10000\n",
    "intervention1 = np.ones(T)\n",
    "intervention_data1, nonstat = toys.structural_causal_process(links_coeffs, T=T, noises=None, seed=7,\n",
    "                                            intervention={X[0][0]:intervention1, X[1][0]:intervention1}, \n",
    "                                            intervention_type='hard',)\n",
    "# Time series no 7 is unobserved confounder\n",
    "intervention_data1 = intervention_data1[:, [0,1,2,3,4,5,6]]\n",
    "tp.plot_timeseries(pp.DataFrame(intervention_data1)); plt.show()"
   ]
  },
  {
   "cell_type": "code",
   "execution_count": null,
   "metadata": {},
   "outputs": [],
   "source": [
    "intervention2 = 0.*np.ones(T)\n",
    "intervention_data2, nonstat = toys.structural_causal_process(links_coeffs, T=T, noises=None, seed=7,\n",
    "                                            intervention={X[0][0]:intervention2, X[1][0]:intervention2}, \n",
    "                                            intervention_type='hard',)\n",
    "# Time series no 7 is unobserved confounder\n",
    "intervention_data2 = intervention_data2[:, [0,1,2,3,4,5,6]]\n",
    "tp.plot_timeseries(pp.DataFrame(intervention_data2)); plt.show()"
   ]
  },
  {
   "cell_type": "markdown",
   "metadata": {},
   "source": [
    "The true average treatment effect is then simply the average difference of the $Y$-data:"
   ]
  },
  {
   "cell_type": "code",
   "execution_count": null,
   "metadata": {},
   "outputs": [],
   "source": [
    "true_effect = (intervention_data1[:,Y[0][0]] - intervention_data2[:,Y[0][0]]).mean()\n",
    "print(\"True effect = %.2f\" %true_effect)"
   ]
  },
  {
   "cell_type": "markdown",
   "metadata": {},
   "source": [
    "The value 0.75 here emerges as the sum of the direct causal link $X_2\\to Y$ with coefficient 0.5 and the indirect path $X_2\\to M \\to Y$ where the effect is the product of $0.5 \\times 0.5 = 0.25$."
   ]
  },
  {
   "cell_type": "markdown",
   "metadata": {},
   "source": [
    "### Fitting the causal effect adjustment model\n",
    "\n",
    "We focus on the average treatment effect implemented in the ``fit_total_effect`` and ``predict_total_effect`` functions. The former takes as the most relevant input a ``dataframe`` and a sklearn model as an ``estimator`` object, here linear regression. The default for the ``adjustment_set`` is the optimal set. Since $S$ is empty, here we don't consider conditional causal effects. This case is discussed further below. \n",
    "\n",
    "Here we leave the data as it is and perform no standardization, which could be done with ``data_transform``. ``mask_type`` can be used for masking data samples (e.g., winter months)."
   ]
  },
  {
   "cell_type": "code",
   "execution_count": null,
   "metadata": {},
   "outputs": [],
   "source": [
    "causal_effects.fit_total_effect(\n",
    "        dataframe=dataframe, \n",
    "        estimator=LinearRegression(),\n",
    "        adjustment_set='optimal',\n",
    "        conditional_estimator=None,  \n",
    "        data_transform=None,\n",
    "        mask_type=None,\n",
    "        )"
   ]
  },
  {
   "cell_type": "markdown",
   "metadata": {},
   "source": [
    "### Predicting the effect of interventions\n",
    "\n",
    "Now we use the fitted causal effect model to predict the effect of the two interventions $x_1=x_2=1$ and $x_1'=x_2'=0$ yielding the expected values of $Y$. The function ``predict_total_effect`` takes as arguments ``intervention_data``, ``conditions_data``, and ``pred_params``. ``pred_params`` are optional parameters passed on to sklearn prediction function. ``intervention_data`` must be of shape ``(1, len(X))`` to predict the intervention of single value(s) $\\mathbf{X}=\\mathbf{x}$ or ``(T_x, len(X))`` to predict the effect of a range of values of length $T_x$. Correspondingly, ``conditions_data`` must be of shape ``(T_x, len(S))``, i.e., of the same length as ``intervention_data``."
   ]
  },
  {
   "cell_type": "code",
   "execution_count": null,
   "metadata": {},
   "outputs": [],
   "source": [
    "intervention_data = 1.*np.ones((1, 2))\n",
    "y1 = causal_effects.predict_total_effect( \n",
    "        intervention_data=intervention_data,\n",
    "#         conditions_data=conditions_data,\n",
    "        )\n",
    "print(\"y1 = \",y1)\n",
    "\n",
    "intervention_data = 0.*np.ones((1, 2))\n",
    "y2 = causal_effects.predict_total_effect( \n",
    "        intervention_data=intervention_data,\n",
    "#         conditions_data=conditions_data,\n",
    "        )\n",
    "print(\"y2 = \",y2)"
   ]
  },
  {
   "cell_type": "markdown",
   "metadata": {},
   "source": [
    "``predict_total_effect`` returns the expected causal effects in an array of shape ``(T_x, len(Y))``. The average treatment effect is then given by the difference:"
   ]
  },
  {
   "cell_type": "code",
   "execution_count": null,
   "metadata": {},
   "outputs": [],
   "source": [
    "beta = (y1 - y2)\n",
    "print(\"Causal effect = %.2f\" %(beta))\n"
   ]
  },
  {
   "cell_type": "markdown",
   "metadata": {},
   "source": [
    "As you can see, it is almost the true causal effect from above. \n",
    "\n",
    "We can also directly compute the effect of a range of intervention values:"
   ]
  },
  {
   "cell_type": "code",
   "execution_count": null,
   "metadata": {},
   "outputs": [],
   "source": [
    "intervention_data = np.tile(np.linspace(-2, 2, 20).reshape(20, 1), (1, 2))\n",
    "estimated_causal_effects = causal_effects.predict_total_effect( \n",
    "        intervention_data=intervention_data,\n",
    "#         conditions_data=conditions_data,\n",
    "        )\n",
    "plt.scatter(intervention_data[:,0], estimated_causal_effects, label=\"Estimated\")\n",
    "# plt.plot(intervention_values, true_causal_effects, 'k-', label=\"True\")\n",
    "# plt.title(r\"NRMSE = %.2f\" % (np.abs(estimated_causal_effects - true_causal_effects).mean()/true_causal_effects.std()))\n",
    "plt.xlabel('Intervention / X-value range')\n",
    "plt.ylabel('Causal effect')\n",
    "plt.legend()\n",
    "plt.show()\n"
   ]
  },
  {
   "cell_type": "markdown",
   "metadata": {},
   "source": [
    "Here this is just a straight line of slope $0.75$ since we deal with a linear model."
   ]
  },
  {
   "cell_type": "markdown",
   "metadata": {},
   "source": [
    "### Other estimator models\n",
    "\n",
    "#### Nonlinear / non-parametric estimators\n",
    "\n",
    "Here the ground truth is linear, so it made sense to use a linear estimator. Let's consider a nonlinear ground truth and generate observational as well interventional ground truth data for a range of intervention values."
   ]
  },
  {
   "cell_type": "code",
   "execution_count": 25,
   "metadata": {},
   "outputs": [],
   "source": [
    "def lin_f(x): return x\n",
    "def nonlin_f(x): return (x + 5. * x ** 2 * np.exp(-x ** 2 / 20.))\n",
    "\n",
    "coeff = .5\n",
    "links_coeffs = {\n",
    "                0: [], \n",
    "                1: [((0, 0), coeff, lin_f), ((5, 0), coeff, lin_f)], \n",
    "                2: [((1, 0), -coeff, nonlin_f), ((5, 0), coeff, lin_f)],\n",
    "                3: [((1, 0), 1., nonlin_f), ((2, 0), coeff, lin_f), ((6, 0), coeff, lin_f), ((7, 0), coeff, lin_f)],\n",
    "                4: [((5, 0), coeff, lin_f), ((7, 0), coeff, lin_f)], \n",
    "                5: [],\n",
    "                6: [],\n",
    "                7: [],\n",
    "                }\n",
    "# Observational data\n",
    "T = 1000\n",
    "data, nonstat = toys.structural_causal_process(links_coeffs, T=T, noises=None, seed=7)\n",
    "# Time series no 7 is unobserved confounder\n",
    "data = data[:, [0,1,2,3,4,5,6]]\n",
    "dataframe = pp.DataFrame(data)\n",
    "\n",
    "# Interventional data for a range of intervention values\n",
    "intervention_data = np.linspace(-10, 10, 30)\n",
    "\n",
    "true_causal_effects = np.zeros(len(intervention_data))\n",
    "for i, int_val in enumerate(intervention_data): \n",
    "    intervention1 = int_val*np.ones(T)\n",
    "    intervention_data1, nonstat = toys.structural_causal_process(links_coeffs, T=T, noises=None, seed=7,\n",
    "                                            intervention={0:intervention1, 1:intervention1}, \n",
    "                                            intervention_type='hard',)\n",
    "    # Time series no 7 is unobserved confounder\n",
    "    intervention_data1 = intervention_data1[:, [0,1,2,3,4,5,6]]\n",
    "    true_causal_effects[i] = intervention_data1[:,Y[0][0]].mean()"
   ]
  },
  {
   "cell_type": "code",
   "execution_count": null,
   "metadata": {
    "scrolled": true
   },
   "outputs": [],
   "source": [
    "tp.plot_timeseries(dataframe); plt.show()"
   ]
  },
  {
   "cell_type": "markdown",
   "metadata": {},
   "source": [
    "Now we fit *on the observational data* using the non-parametric ``KNeighborsRegressor()`` and then estimate the effect of the above considered interventions."
   ]
  },
  {
   "cell_type": "code",
   "execution_count": 27,
   "metadata": {},
   "outputs": [],
   "source": [
    "# Fit causal effect model from observational data\n",
    "causal_effects.fit_total_effect(\n",
    "        dataframe=dataframe, \n",
    "        estimator=KNeighborsRegressor(),\n",
    "        adjustment_set='optimal',\n",
    "        conditional_estimator=None,  \n",
    "        data_transform=None,\n",
    "        mask_type=None,\n",
    "        )\n",
    "\n",
    "# Predict effect of interventions\n",
    "intervention_data_here = np.tile(intervention_data.reshape(30, 1), (1, 2))\n",
    "\n",
    "estimated_causal_effects = causal_effects.predict_total_effect( \n",
    "        intervention_data=intervention_data_here,\n",
    "#         conditions_data=conditions_data,\n",
    "        )"
   ]
  },
  {
   "cell_type": "markdown",
   "metadata": {},
   "source": [
    "Below we compare the true and predicted causal effect values in $Y$ (y-axis) given intervention values in $X$ on the x-axis.\n",
    "\n",
    "In addition, we show the observational density of $X_1$ (red)."
   ]
  },
  {
   "cell_type": "code",
   "execution_count": null,
   "metadata": {},
   "outputs": [],
   "source": [
    "plt.scatter(intervention_data, estimated_causal_effects, label=\"Estimated\")\n",
    "plt.plot(intervention_data, true_causal_effects, 'k-', label=\"True\")\n",
    "plt.title(r\"NRMSE = %.2f\" % (np.abs(estimated_causal_effects - true_causal_effects).mean()/true_causal_effects.std()))\n",
    "plt.xlabel('Intervention / X-value range')\n",
    "plt.ylabel('Causal effect')\n",
    "plt.legend()\n",
    "\n",
    "# Also show observational density of X1\n",
    "ax2 = plt.gca().twinx()\n",
    "density = gaussian_kde(data[:,1])\n",
    "ax2.plot(intervention_data, density(intervention_data), 'r-', label=r\"$p(X_1)$\")\n",
    "ax2.set_ylabel(r'$p(X_1)$')\n",
    "ax2.legend(loc='upper right')\n",
    "\n",
    "plt.show()"
   ]
  },
  {
   "cell_type": "markdown",
   "metadata": {},
   "source": [
    "The causal effect estimate works well for the range of values where the observational distribution of $X$ is non-zero. The kNN-estimator model cannot learn functional relations outside this range."
   ]
  },
  {
   "cell_type": "markdown",
   "metadata": {},
   "source": [
    "#### Logistic regression\n",
    "\n",
    "Now let's have a look at ``LogisticRegression`` which allows to fit a categorical target (=response) variable to continuous input variables. To this end, we here use ``pp.quantile_bin_array`` to get categorical toy data for the target $Y$."
   ]
  },
  {
   "cell_type": "code",
   "execution_count": null,
   "metadata": {},
   "outputs": [],
   "source": [
    "def lin_f(x): return x\n",
    "\n",
    "coeff = .5\n",
    "links_coeffs = {\n",
    "                0: [], \n",
    "                1: [((0, 0), coeff, lin_f), ((5, 0), coeff, lin_f)], \n",
    "                2: [((1, 0), -coeff, lin_f), ((5, 0), coeff, lin_f)],\n",
    "                3: [((1, 0), 1., lin_f), ((2, 0), coeff, lin_f), ((6, 0), coeff, lin_f), ((7, 0), coeff, lin_f)],\n",
    "                4: [((5, 0), coeff, lin_f), ((7, 0), coeff, lin_f)], \n",
    "                5: [],\n",
    "                6: [],\n",
    "                7: [],\n",
    "                }\n",
    "# Observational data\n",
    "T = 1000\n",
    "data, nonstat = toys.structural_causal_process(links_coeffs, T=T, noises=None, seed=7)\n",
    "\n",
    "# Let's make Y a categorical variable using quantile binning\n",
    "bins = 3\n",
    "data[:,3] = pp.quantile_bin_array(data[:,3].reshape(len(data), 1), bins=bins).squeeze()\n",
    "\n",
    "# Time series no 7 is unobserved confounder\n",
    "data = data[:, [0,1,2,3,4,5,6]]\n",
    "dataframe = pp.DataFrame(data)\n",
    "tp.plot_timeseries(dataframe); plt.show()"
   ]
  },
  {
   "cell_type": "markdown",
   "metadata": {},
   "source": [
    "Then we fit the total effect using ``LogisticRegression``. By default, the ouput of ``predict(...)`` is averaged, which makes sense for continuous target variables. Here, instead, we get categorical predictions and apply np.bincount (with the correct number of categories) to get the predicted distributions for each intervention value."
   ]
  },
  {
   "cell_type": "code",
   "execution_count": null,
   "metadata": {},
   "outputs": [],
   "source": [
    "# Interventional data for a range of intervention values\n",
    "intervention_data = np.linspace(-5, 5, 10)\n",
    "\n",
    "# Fit causal effect model from observational data\n",
    "causal_effects.fit_total_effect(\n",
    "        dataframe=dataframe, \n",
    "        estimator=LogisticRegression(),\n",
    "        adjustment_set='optimal',\n",
    "        conditional_estimator=None,  \n",
    "        data_transform=None,\n",
    "        mask_type=None,\n",
    "        )\n",
    "\n",
    "# Predict effect of interventions\n",
    "intervention_data_here = np.tile(intervention_data.reshape(10, 1), (1, 2))\n",
    "\n",
    "# Instead of the default mean function for continuous target variables, here we get categorical predictions\n",
    "# and apply np.bincount to get their interventional distribution\n",
    "def aggregation_func(x, axis=0):\n",
    "    x = x.astype('int64')\n",
    "    return np.apply_along_axis(np.bincount, axis=axis, arr=x, minlength=bins).T\n",
    "\n",
    "estimated_causal_effects = causal_effects.predict_total_effect( \n",
    "        intervention_data=intervention_data_here,\n",
    "#         conditions_data=conditions_data,\n",
    "        aggregation_func = aggregation_func,\n",
    "        )\n",
    "for ido, dox in enumerate(intervention_data):\n",
    "    print(\"Interventional distribution for do(X=%.3f) = %s\" %(dox, str(estimated_causal_effects[ido])))\n"
   ]
  },
  {
   "cell_type": "markdown",
   "metadata": {},
   "source": [
    "Here the distributions gradually shift from the lower to the upper categories."
   ]
  },
  {
   "cell_type": "markdown",
   "metadata": {},
   "source": [
    "### Conditional causal effects\n",
    "\n",
    "We now give an example application for the causal effect $\\mathbb{E}[Y|do(X=x), S=s]$ *conditional* on some values $S=s$ of another variable $S$ in the graph. \n",
    "\n",
    "$S$ may be a continuous variable, but here we consider the case where it is binary $\\{-1, 1\\}$ and defines two causal regimes:\n",
    "\n",
    "$$\n",
    "Y=0.7*S*X+Z+\\eta^Y\n",
    "$$\n",
    "\n",
    "I.e., for $S=1$ we have $Y=0.7*X+Z+\\eta^Y$ and for $S=-1$ we have $Y=-0.7*X+Z+\\eta^Y$. $S$ also causes $Z$ here, and $Z$ causes $X$."
   ]
  },
  {
   "cell_type": "code",
   "execution_count": 31,
   "metadata": {},
   "outputs": [],
   "source": [
    "T = 10000\n",
    "\n",
    "Sdata = np.random.choice([-1., 1.], size=T)\n",
    "Zdata = Sdata*np.random.randn(T)\n",
    "Xdata = np.random.randn(T) + Zdata\n",
    "Ydata = 0.7*Sdata*Xdata + Zdata + np.random.randn(T)\n",
    "data = np.vstack((Xdata, Ydata, Sdata, Zdata)).T\n",
    "dataframe = pp.DataFrame(data)"
   ]
  },
  {
   "cell_type": "code",
   "execution_count": null,
   "metadata": {},
   "outputs": [],
   "source": [
    "graph =  np.array([['', '-->', '', '<--'],\n",
    "                   ['<--', '', '<--', '<--'],\n",
    "                   ['', '-->', '', '-->'],\n",
    "                   ['-->', '-->', '<--', '']], dtype='<U3')\n",
    "\n",
    "X = [(0,0)]\n",
    "Y = [(1,0)]\n",
    "S = [(2,0)]\n",
    "causal_effects = CausalEffects(graph, graph_type='admg', X=X, Y=Y, S=S, hidden_variables=None, \n",
    "                            verbosity=1)\n",
    "# Just for plotting purposes\n",
    "var_names = ['$X$', '$Y$', '$S$', '$Z$']\n",
    "tp.plot_graph(graph = causal_effects.graph,\n",
    "        var_names=var_names, \n",
    "#         save_name='Example.pdf',\n",
    "        figsize = (4, 4),\n",
    "        ); plt.show()"
   ]
  },
  {
   "cell_type": "markdown",
   "metadata": {},
   "source": [
    "Here we choose a neural network for the estimator and linear regression for the conditional estimator. "
   ]
  },
  {
   "cell_type": "code",
   "execution_count": null,
   "metadata": {},
   "outputs": [],
   "source": [
    "# Fit causal effect model from observational data\n",
    "causal_effects.fit_total_effect(\n",
    "        dataframe=dataframe, \n",
    "        estimator=MLPRegressor(max_iter=200, random_state=1),\n",
    "        adjustment_set='optimal',\n",
    "        conditional_estimator=LinearRegression(),  \n",
    "        data_transform=None,\n",
    "        mask_type=None,\n",
    "        )"
   ]
  },
  {
   "cell_type": "code",
   "execution_count": null,
   "metadata": {},
   "outputs": [],
   "source": [
    "# Set X to intervened values given S=-1, 1\n",
    "# S=-1\n",
    "for cond_value in [-1, 1]:\n",
    "    conditions_data=cond_value*np.ones((1, 1))\n",
    "    \n",
    "    intervention_data = 1.*np.ones((1, 1))\n",
    "    y1 = causal_effects.predict_total_effect( \n",
    "            intervention_data=intervention_data,\n",
    "            conditions_data=conditions_data,\n",
    "            )\n",
    "\n",
    "    intervention_data = 0.*np.ones((1, 1))\n",
    "    y2 = causal_effects.predict_total_effect( \n",
    "            intervention_data=intervention_data,\n",
    "            conditions_data=conditions_data,\n",
    "            )\n",
    "    \n",
    "    beta = (y1 - y2)\n",
    "    print(\"Causal effect for S = % .2f is %.2f\" %(cond_value, beta))\n"
   ]
  },
  {
   "cell_type": "markdown",
   "metadata": {},
   "source": [
    "This is quite well estimating the correct causal effect which for $S=1$ is $\\beta=0.7$ and for $S=-1$ $\\beta=-0.7$."
   ]
  },
  {
   "cell_type": "markdown",
   "metadata": {},
   "source": [
    "## Causal effects in time series DAGs\n",
    "\n",
    "Next, we investigate causal effect estimation from the stationary DAG above.\n"
   ]
  },
  {
   "cell_type": "code",
   "execution_count": null,
   "metadata": {},
   "outputs": [],
   "source": [
    "graph =  np.array([[['', '-->', ''],\n",
    "                    ['', '', ''],\n",
    "                    ['', '', '']],\n",
    "                   [['', '-->', ''],\n",
    "                    ['', '-->', ''],\n",
    "                    ['-->', '', '-->']],\n",
    "                   [['', '', ''],\n",
    "                    ['<--', '', ''],\n",
    "                    ['', '-->', '']]], dtype='<U3')\n",
    "\n",
    "X = [(1,-2)]\n",
    "Y = [(2,0)]\n",
    "causal_effects = CausalEffects(graph, graph_type='stationary_dag', X=X, Y=Y, S=None, \n",
    "                               hidden_variables=None, \n",
    "                            verbosity=1)\n",
    "var_names = ['$X^0$', '$X^1$', '$X^2$']\n",
    "\n",
    "opt = causal_effects.get_optimal_set()\n",
    "print(\"Oset = \", [(var_names[v[0]], v[1]) for v in opt])\n",
    "special_nodes = {}\n",
    "for node in causal_effects.X:\n",
    "    special_nodes[node] = 'red'\n",
    "for node in causal_effects.Y:\n",
    "    special_nodes[node] = 'blue'\n",
    "for node in opt:\n",
    "    special_nodes[node] = 'orange'\n",
    "for node in causal_effects.M:\n",
    "    special_nodes[node] = 'lightblue'\n",
    "\n",
    "    \n",
    "tp.plot_time_series_graph(graph = causal_effects.graph,\n",
    "        var_names=var_names, \n",
    "#         save_name='Example.pdf',\n",
    "        figsize = (8, 4),\n",
    "        special_nodes=special_nodes\n",
    "        ); plt.show()"
   ]
  },
  {
   "cell_type": "markdown",
   "metadata": {},
   "source": [
    "In this extended ADMG constructed from the stationary input DAG (as described above) the optimal adjustment set is colored in orange, the mediators are in light blue. Since the whole optimal adjustment set is included in this lag-range, the adjustment is valid. \n",
    "\n",
    "Let's generate some data for an SCM with this stationary DAG."
   ]
  },
  {
   "cell_type": "code",
   "execution_count": 36,
   "metadata": {},
   "outputs": [],
   "source": [
    "coeff = .5\n",
    "links_coeffs = {\n",
    "                0: [((0, -1), coeff, lin_f), ((1, -1), coeff, lin_f)], \n",
    "                1: [((1, -1), coeff, lin_f),], \n",
    "                2: [((2, -1), coeff, lin_f), ((1, 0), coeff, lin_f), ((1,-2), coeff, lin_f)],\n",
    "                }\n",
    "# Observational data\n",
    "T = 10000\n",
    "data, nonstat = toys.structural_causal_process(links_coeffs, T=T, noises=None, seed=7)\n",
    "dataframe = pp.DataFrame(data)\n"
   ]
  },
  {
   "cell_type": "markdown",
   "metadata": {},
   "source": [
    "We here showcase the function ``structural_causal_process_ensemble`` to illustrate how to generate ground truth interventional time series data.\n",
    "\n",
    "Looking at the time series graph above, we will generate an ensemble of $M=200$ time series, each only of length $T=100$ and where the sample $T-2$ in variable $X^1$ is set to a certain interventional value while the samples before and after are determined according to the model above. This models $p(X^2_t|do(X^1_{t-2}=x))$. We can also model more complex interventions over more than one time point, but this would correspond to a joint causal effect and would require us to initialize a multivariate cause variable __X__ in the CausalEffects class above. \n",
    "\n",
    "While we could use a shorter $T$ in principle, we use a larger one because want the process to properly equilibrate before the intervetion sets in."
   ]
  },
  {
   "cell_type": "code",
   "execution_count": null,
   "metadata": {},
   "outputs": [],
   "source": [
    "T_interventional = 100\n",
    "\n",
    "# Intervention 1 to x = 1\n",
    "# Set all values except for T-2 to NaN which tells the function \n",
    "# to let these values be determined by the observational SCM equation\n",
    "intervention1 = np.ones(T_interventional)\n",
    "intervention1[:] = np.nan\n",
    "intervention1[T_interventional-3] = 1\n",
    "\n",
    "intervention_data1, nonstat = toys.structural_causal_process_ensemble(realizations=200, ensemble_seed=1,\n",
    "                                        links=links_coeffs, T=T_interventional, noises=None,\n",
    "                                            intervention={1:intervention1}, \n",
    "                                            intervention_type='hard',)\n",
    "\n",
    "# Same for the intervention 2 to x' = 0\n",
    "intervention2 = np.ones(T_interventional)\n",
    "intervention2[:] = np.nan\n",
    "intervention2[T_interventional-3] = 0\n",
    "\n",
    "intervention_data2, nonstat = toys.structural_causal_process_ensemble(realizations=200, ensemble_seed=1,\n",
    "                                        links=links_coeffs, T=T_interventional, noises=None,\n",
    "                                            intervention={1:intervention2}, \n",
    "                                            intervention_type='hard',)\n",
    "print(intervention_data1[0, -5:, :])\n",
    "print(intervention_data2[0, -5:, :])"
   ]
  },
  {
   "cell_type": "markdown",
   "metadata": {},
   "source": [
    "As you can see, the T-2 value is set to 1 and 0, respectively. Our interest lies in the expected value of the difference of the sample distributions in $X^2$ at time $T$ over all realizations:"
   ]
  },
  {
   "cell_type": "code",
   "execution_count": null,
   "metadata": {},
   "outputs": [],
   "source": [
    "density1 = gaussian_kde(intervention_data1[:, -1, 2])\n",
    "density2 = gaussian_kde(intervention_data2[:, -1, 2])\n",
    "\n",
    "x_vals = np.linspace(-5, 5, 100)\n",
    "plt.plot(x_vals, density1(x_vals), 'r-', label=r\"$p(X^2_t|do(X^1_{t-2}=1))$\")\n",
    "plt.plot(x_vals, density2(x_vals), 'b-', label=r\"$p(X^2_t|do(X^1_{t-2}=0))$\")\n",
    "plt.legend(loc='upper right')\n",
    "plt.show()\n",
    "\n",
    "print(\"Expected value of difference: \", (intervention_data1 - intervention_data2)[:, -1, 2].mean(axis=0))"
   ]
  },
  {
   "cell_type": "markdown",
   "metadata": {},
   "source": [
    "This is the ground truth causal effect, which in this linear model is equivalent to the sum over the product of all coefficients along causal paths from $X^1_{t-2}$ to $X^2_{t}$: $3*0.5*0.5*0.5 + 0.5=0.875$. \n",
    "\n",
    "Now we estimate this effect from just the single observational time series plotted further above and then predict the effect of the two interventions $x=1$ and $x'=0$."
   ]
  },
  {
   "cell_type": "code",
   "execution_count": null,
   "metadata": {},
   "outputs": [],
   "source": [
    "# Fit causal effect model from observational data\n",
    "causal_effects.fit_total_effect(\n",
    "        dataframe=dataframe, \n",
    "        estimator=LinearRegression(),\n",
    "        adjustment_set='optimal',\n",
    "        )"
   ]
  },
  {
   "cell_type": "code",
   "execution_count": null,
   "metadata": {},
   "outputs": [],
   "source": [
    "intervention_data = 1.*np.ones((1, 1))\n",
    "y1 = causal_effects.predict_total_effect( \n",
    "        intervention_data=intervention_data,\n",
    "        )\n",
    "\n",
    "intervention_data = 0.*np.ones((1, 1))\n",
    "y2 = causal_effects.predict_total_effect( \n",
    "        intervention_data=intervention_data,\n",
    "        )\n",
    "\n",
    "beta = (y1 - y2)\n",
    "print(\"Causal effect is %.3f\" %(beta))\n",
    "\n"
   ]
  },
  {
   "cell_type": "markdown",
   "metadata": {},
   "source": [
    "This estimated effect almost matches the true one. If you increase the time series length of the observational data, you can exact match.\n",
    "\n",
    "## Estimating linear effects with the Wright estimator\n",
    "\n",
    "We consider a DAG-version of the complex graph in the introduction."
   ]
  },
  {
   "cell_type": "code",
   "execution_count": null,
   "metadata": {},
   "outputs": [],
   "source": [
    "graph =  np.array([['', '-->', '', '', '', '', ''],\n",
    "                   ['<--', '', '-->', '-->', '', '<--', ''],\n",
    "                   ['', '<--', '', '-->', '', '<--', ''],\n",
    "                   ['', '<--', '<--', '', '<--', '', '<--'],\n",
    "                   ['', '', '', '-->', '', '<--', ''],\n",
    "                   ['', '-->', '-->', '', '-->', '', ''],\n",
    "                   ['', '', '', '-->', '', '', '']], dtype='<U3')\n",
    "\n",
    "X = [(0,0), (1,0)]\n",
    "Y = [(3,0)]\n",
    "causal_effects = CausalEffects(graph, graph_type='dag', X=X, Y=Y, S=None, hidden_variables=None, \n",
    "                            verbosity=1)\n",
    "# Just for plotting purposes\n",
    "var_names = ['$X_1$', '$X_2$', '$M$', '$Y$', '$Z_1$', '$Z_2$', '$Z_3$']\n",
    "\n",
    "opt = causal_effects.get_optimal_set()\n",
    "print(\"Oset = \", [(var_names[v[0]], v[1]) for v in opt])\n",
    "special_nodes = {}\n",
    "for node in causal_effects.X:\n",
    "    special_nodes[node] = 'red'\n",
    "for node in causal_effects.Y:\n",
    "    special_nodes[node] = 'blue'\n",
    "for node in opt:\n",
    "    special_nodes[node] = 'orange'\n",
    "for node in causal_effects.M:\n",
    "    special_nodes[node] = 'lightblue'\n",
    "\n",
    "    \n",
    "tp.plot_graph(graph = causal_effects.graph,\n",
    "        var_names=var_names, \n",
    "#         save_name='Example.pdf',\n",
    "        figsize = (6, 6),\n",
    "        special_nodes=special_nodes\n",
    "        ); plt.show()"
   ]
  },
  {
   "cell_type": "markdown",
   "metadata": {},
   "source": [
    "Let's generate some data."
   ]
  },
  {
   "cell_type": "code",
   "execution_count": 42,
   "metadata": {},
   "outputs": [],
   "source": [
    "def lin_f(x): return x\n",
    "coeff = .5\n",
    "links_coeffs = {\n",
    "                0: [], \n",
    "                1: [((0, 0), coeff, lin_f), ((5, 0), coeff, lin_f)], \n",
    "                2: [((1, 0), coeff, lin_f), ((5, 0), coeff, lin_f)],\n",
    "                3: [((1, 0), coeff, lin_f), ((2, 0), coeff, lin_f), ((6, 0), coeff, lin_f), ((4, 0), coeff, lin_f)],\n",
    "                4: [((5, 0), coeff, lin_f)], \n",
    "                5: [],\n",
    "                6: [],\n",
    "                }\n",
    "T = 10000\n",
    "data, nonstat = toys.structural_causal_process(links_coeffs, T=T, noises=None, seed=7)\n",
    "dataframe = pp.DataFrame(data)"
   ]
  },
  {
   "cell_type": "markdown",
   "metadata": {},
   "source": [
    "We fit and predict with Wright's method. Next to the data handling arguments ``fit_wrights_effect`` takes:\n",
    "\n",
    "* ``mediation : None or 'direct' or list of tuples``: If None, the total effect is estimated, if 'direct', only the direct effect is estimated, else only those causal paths are considerd that pass at least through one of these mediator nodes.\n",
    "* ``method : {'parents', 'links_coeffs', 'optimal'}``: Method to use for estimating Wright's path coefficients. If 'optimal', the Oset is used, if 'links_coeffs', the coefficients in links_coeffs are used, if 'parents', the parents are used (only valid if there are no bi-directed links adjacent to mediators or Y). 'links_coeffs' can be used for testing purposes if you play around with toy models.\n",
    "* ``links_coeffs : dict``: Only used if method = 'links_coeffs'. Dictionary of format: {0:[((i, -tau), coeff),...], 1:[...],  ...} for all variables where i must be in [0..N-1] and tau >= 0 with number of variables N. coeff must be a float.\n",
    "\n",
    "The default is ``method='parents'`` which is suitable here since we deal with a DAG."
   ]
  },
  {
   "cell_type": "code",
   "execution_count": null,
   "metadata": {},
   "outputs": [],
   "source": [
    "causal_effects.fit_wright_effect(dataframe=dataframe)\n",
    "\n",
    "intervention_data = 1.*np.ones((1, 2))\n",
    "y1 = causal_effects.predict_wright_effect( \n",
    "        intervention_data=intervention_data,\n",
    "        )\n",
    "\n",
    "intervention_data = 0.*np.ones((1, 2))\n",
    "y2 = causal_effects.predict_wright_effect( \n",
    "        intervention_data=intervention_data,\n",
    "        )\n",
    "\n",
    "beta = (y1 - y2)\n",
    "print(\"Causal effect is %.2f\" %(beta))\n"
   ]
  },
  {
   "cell_type": "markdown",
   "metadata": {},
   "source": [
    "This is the expected result since there is one direct link with coefficient 0.5 and an indirect paths with an effect $0.5*0.5$.\n",
    "\n",
    "Finally, the option ``mediation`` allows to consider only direct and mediated effects. Let's measure how much of the total effect is mediated through $M$."
   ]
  },
  {
   "cell_type": "code",
   "execution_count": null,
   "metadata": {},
   "outputs": [],
   "source": [
    "considered_mediators = [(2, 0)]\n",
    "causal_effects.fit_wright_effect(dataframe=dataframe, mediation=considered_mediators)\n",
    "\n",
    "intervention_data = 1.*np.ones((1, 2))\n",
    "y1 = causal_effects.predict_wright_effect( \n",
    "        intervention_data=intervention_data,\n",
    "        )\n",
    "\n",
    "intervention_data = 0.*np.ones((1, 2))\n",
    "y2 = causal_effects.predict_wright_effect( \n",
    "        intervention_data=intervention_data,\n",
    "        )\n",
    "\n",
    "beta = (y1 - y2)\n",
    "print(\"Mediated causal effect through M = %s is %.2f\" %(considered_mediators, beta))"
   ]
  },
  {
   "cell_type": "markdown",
   "metadata": {},
   "source": [
    "And the direct effect is:"
   ]
  },
  {
   "cell_type": "code",
   "execution_count": null,
   "metadata": {},
   "outputs": [],
   "source": [
    "causal_effects.fit_wright_effect(dataframe=dataframe, mediation='direct')\n",
    "\n",
    "intervention_data = 1.*np.ones((1, 2))\n",
    "y1 = causal_effects.predict_wright_effect( \n",
    "        intervention_data=intervention_data,\n",
    "        )\n",
    "\n",
    "intervention_data = 0.*np.ones((1, 2))\n",
    "y2 = causal_effects.predict_wright_effect( \n",
    "        intervention_data=intervention_data,\n",
    "        )\n",
    "\n",
    "beta = (y1 - y2)\n",
    "print(\"Direct causal effect is %.2f\" %(beta))"
   ]
  },
  {
   "cell_type": "markdown",
   "metadata": {},
   "source": [
    "The CausalEffects class generalizes the ``LinearMediation`` class of tigramite, which only applies to linear effects in time series graphs. Due to its implementation, the ``LinearMediation`` may be much faster, though."
   ]
  },
  {
   "cell_type": "markdown",
   "metadata": {},
   "source": [
    "## Bootstrap-based confidence intervals\n",
    "\n",
    "You can estimate confidence intervals for both general total effect and Wright-based effect estimates."
   ]
  },
  {
   "cell_type": "code",
   "execution_count": null,
   "metadata": {},
   "outputs": [],
   "source": [
    "# Let's generate shorter length data\n",
    "T = 100\n",
    "data, nonstat = toys.structural_causal_process(links_coeffs, T=T, noises=None, seed=7)\n",
    "dataframe = pp.DataFrame(data)\n",
    "\n",
    "# First for the Wright method with effect estimate being 0.75 above\n",
    "causal_effects.fit_bootstrap_of(\n",
    "    method='fit_wright_effect',\n",
    "    method_args={'dataframe':dataframe},\n",
    "    boot_samples=1000)\n",
    "\n",
    "intervention_data = 1.*np.ones((1, 2))\n",
    "conf = causal_effects.predict_bootstrap_of(\n",
    "    method='predict_wright_effect',\n",
    "    method_args={'intervention_data':intervention_data})\n",
    "print(conf.shape)\n"
   ]
  },
  {
   "cell_type": "code",
   "execution_count": null,
   "metadata": {},
   "outputs": [],
   "source": [
    "# Now the total effect estimate\n",
    "# First fit \n",
    "causal_effects.fit_total_effect(dataframe=dataframe, estimator=LinearRegression())\n",
    "\n",
    "# Then its confidence interval\n",
    "causal_effects.fit_bootstrap_of(\n",
    "    method='fit_total_effect',\n",
    "    method_args={'dataframe':dataframe,  \n",
    "                 'estimator':LinearRegression()},\n",
    "    boot_samples=1000)\n",
    "\n",
    "# Then predict\n",
    "intervention_data = np.tile(np.linspace(-2, 2, 20).reshape(20, 1), (1, 2))\n",
    "estimated_causal_effects = causal_effects.predict_total_effect( \n",
    "        intervention_data=intervention_data,\n",
    "#         conditions_data=conditions_data,\n",
    "        )\n",
    "estimated_confidence_intervals = causal_effects.predict_bootstrap_of(\n",
    "    method='predict_total_effect',\n",
    "    method_args={'intervention_data':intervention_data},\n",
    "    conf_lev=0.9)\n",
    "\n",
    "plt.errorbar(intervention_data[:,0], estimated_causal_effects, \n",
    "             np.abs(estimated_confidence_intervals - estimated_causal_effects), label=\"Estimated\")\n",
    "plt.xlabel('Intervention / X-value range')\n",
    "plt.ylabel('Causal effect')\n",
    "plt.legend()\n",
    "plt.show()\n"
   ]
  },
  {
   "cell_type": "code",
   "execution_count": null,
   "metadata": {},
   "outputs": [],
   "source": []
  },
  {
   "cell_type": "code",
   "execution_count": null,
   "metadata": {},
   "outputs": [],
   "source": []
  },
  {
   "cell_type": "code",
   "execution_count": null,
   "metadata": {},
   "outputs": [],
   "source": []
  },
  {
   "cell_type": "code",
   "execution_count": null,
   "metadata": {},
   "outputs": [],
   "source": []
  },
  {
   "cell_type": "code",
   "execution_count": null,
   "metadata": {},
   "outputs": [],
   "source": []
  }
 ],
 "metadata": {
  "kernelspec": {
   "display_name": "base",
   "language": "python",
   "name": "python3"
  },
  "language_info": {
   "codemirror_mode": {
    "name": "ipython",
    "version": 3
   },
   "file_extension": ".py",
   "mimetype": "text/x-python",
   "name": "python",
   "nbconvert_exporter": "python",
   "pygments_lexer": "ipython3",
   "version": "3.11.5"
  }
 },
 "nbformat": 4,
 "nbformat_minor": 1
}
